{
 "cells": [
  {
   "cell_type": "raw",
   "id": "0e942f88-dd8f-4df1-948e-4d677c047535",
   "metadata": {},
   "source": [
    "Q1. What is an Exception in python? Write the difference between Exceptions and syntex errors\n",
    "\n",
    "Ans= In python an exception is an error that occurs during the execution of a programm It is a event that disrupts tha normal flow of the program and may cause it to terminate.Exception are raised when something unexpected happens, such as trying to access afile that does not exists,dividing by zero or running out of memory.\n",
    "Syntex error that occur when the code is not writting correctly according to the rules of the python language. These errors are detected by the python compiler or interpreter and prevent the program from running."
   ]
  },
  {
   "cell_type": "raw",
   "id": "606e5053-81e1-4f3a-a8cc-a65ac43e3e7f",
   "metadata": {},
   "source": [
    "Q2. In python What happens when an exception is not handled? Explain with an example.\n",
    "\n",
    "Ans= If an exception occurs which does not match the exception named in the except clause it is passed on to other try statement , if no handler is found it is an unhandeld exception and execution stops with an error massage.\n",
    "Example:-"
   ]
  },
  {
   "cell_type": "raw",
   "id": "9d723d3b-bb0d-4a81-a6bc-21faef9a6653",
   "metadata": {},
   "source": [
    "Q3. Which Python statements are used to catch and handle exceptions? Explain withan example\n",
    "\n",
    "Ans= The python statements used to catch and handle exception are the try anad except statement. The try statement is used to identyfy code that may raise an exception. the except statement is used to handle the exception that is raised\n"
   ]
  },
  {
   "cell_type": "code",
   "execution_count": 1,
   "id": "5238c19b-fca8-484a-93be-691065dcaf8a",
   "metadata": {},
   "outputs": [
    {
     "name": "stdout",
     "output_type": "stream",
     "text": [
      "Error: Division by 0.\n"
     ]
    }
   ],
   "source": [
    "try:\n",
    "    result = 10 / 0\n",
    "except ZeroDivisionError:\n",
    "    print(\"Error: Division by 0.\")"
   ]
  },
  {
   "cell_type": "raw",
   "id": "a385d781-661d-4ca4-9775-4528abaf96c2",
   "metadata": {},
   "source": [
    "Q4. Explain withan example: \n",
    "\n",
    "1.try and else\n",
    "\n",
    "Ans = The try block check for errors and executes if there is no error.the except block executes if the program encounters an error in the try block, the else block executes ehen there is no error.\n",
    "\n",
    "2.finally\n",
    "\n",
    "Ans =  The finally block of code is run after the try,except else block is final,it is quite useful in cleaning up resources and closing the object and closeing the files.\n",
    "\n",
    "3. raise\n",
    "\n",
    "Ans= The raise keyword in python is used to raise an exception, an exception is an error thet occurs during the execution of a program, when an exception is raised the normal flow of the program is inturrupted and the exception is handeld,\n",
    "example:-\n"
   ]
  },
  {
   "cell_type": "code",
   "execution_count": 16,
   "id": "09674ad1-eb84-4d9d-9a4b-d2074263d9c2",
   "metadata": {},
   "outputs": [
    {
     "name": "stdout",
     "output_type": "stream",
     "text": [
      "5.0\n"
     ]
    }
   ],
   "source": [
    "def divide(a,b):\n",
    "    if a == 0:\n",
    "        raise ValueError(\"cannot divide by zerro\")\n",
    "    return a / b\n",
    "\n",
    "try:\n",
    "    result = divide(10,2)\n",
    "    print (result)\n",
    "except ValueError as e:\n",
    "    print (e)\n",
    "    \n",
    "    \n",
    "    "
   ]
  },
  {
   "cell_type": "raw",
   "id": "f9518558-3834-4be0-83a9-12f317753866",
   "metadata": {},
   "source": [
    "Q5. What are Custom Exceptions in python? Why do we need Custom Exceptions? Explain with an example\n",
    "\n",
    "Ans= custom exception are helpful in many situation. they allow us to define our own error condition and handle them in a more specific and meaningful way, for example if we write a program that read data from a file  if the file not found python will raise a FileNotFoundError.\n",
    "\n"
   ]
  },
  {
   "cell_type": "code",
   "execution_count": null,
   "id": "9e6c8672-8cec-405c-8db9-66679e2ffa51",
   "metadata": {},
   "outputs": [],
   "source": [
    "# Q6. Create a custom exception class. Use this class to handle an exception.\n",
    "\n",
    "class validateage(Exception):\n",
    "    def __init__(self,msg):\n",
    "        self.msg=msg\n",
    "        \n",
    "def validateage(age):\n",
    "    if age < 0:\n",
    "        raise validateage (\"age is negetive\")\n",
    "    elif age > 200:\n",
    "        raise validateage (\"enterd age is very high\")\n",
    "    else:\n",
    "         print (\"valid age\")\n",
    "try:\n",
    "    age= int(input(\"enter your age\"))\n",
    "    validateage = age\n",
    "except validateage as e:\n",
    "        print (e)"
   ]
  },
  {
   "cell_type": "code",
   "execution_count": null,
   "id": "2fb0d66f-e89e-4a89-900a-bc9f1f51485c",
   "metadata": {},
   "outputs": [],
   "source": [
    "# Q6. Create a custom exception class. Use this class to handle an exception.\n",
    "\n",
    "class validateage(Exception):\n",
    "    def __init__(self,msg):\n",
    "        self.msg=msg\n",
    "        \n",
    "def validateage(age):\n",
    "    if age < 0:\n",
    "        raise validateage (\"age is negetive\")\n",
    "    elif age > 200:\n",
    "        raise validateage (\"enterd age is very high\")\n",
    "    else:\n",
    "         print (\"valid age\")\n",
    "try:\n",
    "    age= int(input(\"enter your age\"))\n",
    "    validateage = age\n",
    "except validateage as e:\n",
    "        print (e)\n",
    "        "
   ]
  },
  {
   "cell_type": "code",
   "execution_count": null,
   "id": "351fd78d-cdc8-406d-9275-c585f5b0c239",
   "metadata": {},
   "outputs": [],
   "source": []
  }
 ],
 "metadata": {
  "kernelspec": {
   "display_name": "Python 3 (ipykernel)",
   "language": "python",
   "name": "python3"
  },
  "language_info": {
   "codemirror_mode": {
    "name": "ipython",
    "version": 3
   },
   "file_extension": ".py",
   "mimetype": "text/x-python",
   "name": "python",
   "nbconvert_exporter": "python",
   "pygments_lexer": "ipython3",
   "version": "3.10.8"
  }
 },
 "nbformat": 4,
 "nbformat_minor": 5
}
